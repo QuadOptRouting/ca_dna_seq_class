{
 "cells": [
  {
   "cell_type": "code",
   "execution_count": null,
   "metadata": {},
   "outputs": [],
   "source": [
    "import torch\n",
    "from skimage import io, transform\n",
    "import numpy as np\n",
    "import matplotlib.pyplot as plt\n",
    "from torch.utils.data import Dataset, DataLoader\n",
    "from torchvision import transforms, utils\n",
    "from torch.autograd import Variable\n",
    "from torch import nn\n",
    "\n",
    "%matplotlib inline"
   ]
  },
  {
   "cell_type": "code",
   "execution_count": null,
   "metadata": {},
   "outputs": [],
   "source": [
    "class GenomesDataset(Dataset):\n",
    "    def __init__(self, img_arr):\n",
    "        '''img_arr is an array of images\n",
    "            assuming they all have the same shape\n",
    "            and structure channel-width-heigth'''\n",
    "        self.img_arr = img_arr\n",
    "        self.ch, self.w, self.h = img_arr[0].shape\n",
    "    \n",
    "    def __len__(self):\n",
    "        return len(self.img_arr)\n",
    "    \n",
    "    def __getitem__(self, idx):\n",
    "        return self.img_arr[idx]"
   ]
  },
  {
   "cell_type": "code",
   "execution_count": null,
   "metadata": {},
   "outputs": [],
   "source": [
    "genome_dataset = GenomeDataset()"
   ]
  },
  {
   "cell_type": "code",
   "execution_count": null,
   "metadata": {},
   "outputs": [],
   "source": []
  },
  {
   "cell_type": "code",
   "execution_count": null,
   "metadata": {},
   "outputs": [],
   "source": [
    "genome_dataloader = DataLoader(genome_dataset, batch_size=32,\n",
    "                                shuffle=True)"
   ]
  },
  {
   "cell_type": "code",
   "execution_count": null,
   "metadata": {},
   "outputs": [],
   "source": []
  },
  {
   "cell_type": "code",
   "execution_count": null,
   "metadata": {},
   "outputs": [],
   "source": []
  },
  {
   "cell_type": "code",
   "execution_count": null,
   "metadata": {},
   "outputs": [],
   "source": [
    "class ProjectNetwork(nn.Module):\n",
    "    def __init__(self, input_size, input_channels):\n",
    "        super(ProjectNetwork, self).__init__()\n",
    "        self.conv_layers = nn.Sequential(nn.Conv2d(input_channels, 8, (3, 3), padding=1),\n",
    "                                         nn.ReLU(),\n",
    "                                         nn.MaxPool2d(2),\n",
    "                                         nn.Conv2d(8, 16, (3, 3), padding=1),\n",
    "                                         nn.ReLU(),\n",
    "                                         nn.MaxPool2d(2)\n",
    "                                        )\n",
    "        self.linear_layers = nn.Sequential(nn.Linear(input_size * input_size / 4 * 16, 10),\n",
    "                                           nn.LogSoftmax())\n",
    "    \n",
    "    def forward(self, x):\n",
    "        x = self.conv_layers(x)\n",
    "        x = x.view(x.size(0), -1)\n",
    "        x = self.linear_layers(x)\n",
    "        return x"
   ]
  },
  {
   "cell_type": "code",
   "execution_count": null,
   "metadata": {},
   "outputs": [],
   "source": [
    "import tqdm\n",
    "\n",
    "all_loss = {}\n",
    "test_loss = {}\n",
    "\n",
    "model = ProjectNetwork(...).cuda()\n",
    "loss_fn = torch.nn.NLLLoss().cuda()\n",
    "\n",
    "learning_rate = 1e-4\n",
    "optimizer = torch.optim.Adam(params=model.parameters(), lr=learning_rate)\n",
    "\n",
    "nepoch = 10\n",
    "tqt = tqdm(xrange(nepoch), desc=\"Train\")\n",
    "for t in tqt:\n",
    "    j = 0\n",
    "    ep_loss = 0\n",
    "    for X, y in train_loader:\n",
    "        X = Variable(X).type(torch.cuda.FloatTensor)\n",
    "        y = Variable(y).type(torch.cuda.LongTensor)  ## for classification - vector of longs\n",
    "\n",
    "        y_pred = model(X)\n",
    "        loss = loss_fn(y_pred, y)\n",
    "        ep_loss += loss.data[0]\n",
    "\n",
    "        optimizer.zero_grad()\n",
    "\n",
    "        loss.backward()\n",
    "\n",
    "        optimizer.step()\n",
    "        j += 1\n",
    "    all_loss.append(ep_loss / j)\n",
    "    tqt.set_description(\"Loss = {}\".format(all_loss[-1]))"
   ]
  }
 ],
 "metadata": {
  "kernelspec": {
   "display_name": "Python 2",
   "language": "python",
   "name": "python2"
  },
  "language_info": {
   "codemirror_mode": {
    "name": "ipython",
    "version": 2
   },
   "file_extension": ".py",
   "mimetype": "text/x-python",
   "name": "python",
   "nbconvert_exporter": "python",
   "pygments_lexer": "ipython2",
   "version": "2.7.13"
  }
 },
 "nbformat": 4,
 "nbformat_minor": 2
}
